{
 "cells": [
  {
   "cell_type": "code",
   "execution_count": 1,
   "metadata": {},
   "outputs": [],
   "source": [
    "import geopandas as gpd\n",
    "import os\n",
    "\n",
    "def read_parquet(filename):\n",
    "    # Verificar si el archivo existe\n",
    "    if not os.path.exists(filename):\n",
    "        raise FileNotFoundError(f\"El archivo {filename} no existe.\")\n",
    "\n",
    "    # Leer el archivo .parquet\n",
    "    try:\n",
    "        gdf = gpd.read_parquet(filename)\n",
    "        return gdf\n",
    "    except Exception as e:\n",
    "        print(f\"Error al leer el archivo {filename}: {str(e)}\")\n",
    "        return None\n",
    "\n",
    "# Nombre de archivo .parquet\n",
    "filename = \"/app/assets/amenities/actual.parquet\"\n",
    "\n",
    "# Leer el archivo .parquet usando la función definida anteriormente\n",
    "data = read_parquet(filename)"
   ]
  },
  {
   "cell_type": "code",
   "execution_count": 5,
   "metadata": {},
   "outputs": [],
   "source": [
    "gdf = read_parquet(filename='/app/assets/land_uses/actual.parquet')"
   ]
  },
  {
   "cell_type": "code",
   "execution_count": 6,
   "metadata": {},
   "outputs": [
    {
     "data": {
      "text/html": [
       "<div>\n",
       "<style scoped>\n",
       "    .dataframe tbody tr th:only-of-type {\n",
       "        vertical-align: middle;\n",
       "    }\n",
       "\n",
       "    .dataframe tbody tr th {\n",
       "        vertical-align: top;\n",
       "    }\n",
       "\n",
       "    .dataframe thead th {\n",
       "        text-align: right;\n",
       "    }\n",
       "</style>\n",
       "<table border=\"1\" class=\"dataframe\">\n",
       "  <thead>\n",
       "    <tr style=\"text-align: right;\">\n",
       "      <th></th>\n",
       "      <th>Id</th>\n",
       "      <th>Uso</th>\n",
       "      <th>area_predio</th>\n",
       "      <th>plate_id</th>\n",
       "      <th>geometry</th>\n",
       "    </tr>\n",
       "  </thead>\n",
       "  <tbody>\n",
       "    <tr>\n",
       "      <th>0</th>\n",
       "      <td>1</td>\n",
       "      <td>SITIO ERIAZO</td>\n",
       "      <td>27346.344287</td>\n",
       "      <td>0.0</td>\n",
       "      <td>POLYGON Z ((671840.723 5922742.217 0.000, 6717...</td>\n",
       "    </tr>\n",
       "    <tr>\n",
       "      <th>1</th>\n",
       "      <td>2</td>\n",
       "      <td>SITIO ERIAZO</td>\n",
       "      <td>10492.919632</td>\n",
       "      <td>0.0</td>\n",
       "      <td>POLYGON Z ((672354.137 5923064.083 0.000, 6723...</td>\n",
       "    </tr>\n",
       "    <tr>\n",
       "      <th>2</th>\n",
       "      <td>3</td>\n",
       "      <td>BIENES COMUNES</td>\n",
       "      <td>2466.609968</td>\n",
       "      <td>0.0</td>\n",
       "      <td>POLYGON Z ((671968.972 5922686.292 0.000, 6719...</td>\n",
       "    </tr>\n",
       "    <tr>\n",
       "      <th>3</th>\n",
       "      <td>4</td>\n",
       "      <td>BIENES COMUNES</td>\n",
       "      <td>2107.678619</td>\n",
       "      <td>0.0</td>\n",
       "      <td>POLYGON Z ((671954.192 5922697.177 0.000, 6719...</td>\n",
       "    </tr>\n",
       "    <tr>\n",
       "      <th>4</th>\n",
       "      <td>5</td>\n",
       "      <td>BIENES COMUNES</td>\n",
       "      <td>756.003752</td>\n",
       "      <td>0.0</td>\n",
       "      <td>POLYGON Z ((672046.124 5922825.816 0.000, 6720...</td>\n",
       "    </tr>\n",
       "    <tr>\n",
       "      <th>...</th>\n",
       "      <td>...</td>\n",
       "      <td>...</td>\n",
       "      <td>...</td>\n",
       "      <td>...</td>\n",
       "      <td>...</td>\n",
       "    </tr>\n",
       "    <tr>\n",
       "      <th>3129</th>\n",
       "      <td>4133</td>\n",
       "      <td>MULTI ROL</td>\n",
       "      <td>1528.206919</td>\n",
       "      <td>0.0</td>\n",
       "      <td>POLYGON Z ((672868.943 5922448.181 0.000, 6728...</td>\n",
       "    </tr>\n",
       "    <tr>\n",
       "      <th>3130</th>\n",
       "      <td>4134</td>\n",
       "      <td>PRE ROL</td>\n",
       "      <td>1327.066841</td>\n",
       "      <td>0.0</td>\n",
       "      <td>POLYGON Z ((672893.330 5922459.911 0.000, 6728...</td>\n",
       "    </tr>\n",
       "    <tr>\n",
       "      <th>3131</th>\n",
       "      <td>4150</td>\n",
       "      <td>MULTI ROL</td>\n",
       "      <td>1683.256411</td>\n",
       "      <td>0.0</td>\n",
       "      <td>POLYGON Z ((672955.708 5922437.878 0.000, 6729...</td>\n",
       "    </tr>\n",
       "    <tr>\n",
       "      <th>3132</th>\n",
       "      <td>4151</td>\n",
       "      <td>MULTI ROL</td>\n",
       "      <td>1544.466189</td>\n",
       "      <td>0.0</td>\n",
       "      <td>POLYGON Z ((672955.708 5922437.878 0.000, 6729...</td>\n",
       "    </tr>\n",
       "    <tr>\n",
       "      <th>3133</th>\n",
       "      <td>4152</td>\n",
       "      <td>MULTI ROL</td>\n",
       "      <td>1172.905428</td>\n",
       "      <td>0.0</td>\n",
       "      <td>POLYGON Z ((672932.942 5922480.262 0.000, 6729...</td>\n",
       "    </tr>\n",
       "  </tbody>\n",
       "</table>\n",
       "<p>3134 rows × 5 columns</p>\n",
       "</div>"
      ],
      "text/plain": [
       "        Id             Uso   area_predio  plate_id  \\\n",
       "0        1    SITIO ERIAZO  27346.344287       0.0   \n",
       "1        2    SITIO ERIAZO  10492.919632       0.0   \n",
       "2        3  BIENES COMUNES   2466.609968       0.0   \n",
       "3        4  BIENES COMUNES   2107.678619       0.0   \n",
       "4        5  BIENES COMUNES    756.003752       0.0   \n",
       "...    ...             ...           ...       ...   \n",
       "3129  4133       MULTI ROL   1528.206919       0.0   \n",
       "3130  4134         PRE ROL   1327.066841       0.0   \n",
       "3131  4150       MULTI ROL   1683.256411       0.0   \n",
       "3132  4151       MULTI ROL   1544.466189       0.0   \n",
       "3133  4152       MULTI ROL   1172.905428       0.0   \n",
       "\n",
       "                                               geometry  \n",
       "0     POLYGON Z ((671840.723 5922742.217 0.000, 6717...  \n",
       "1     POLYGON Z ((672354.137 5923064.083 0.000, 6723...  \n",
       "2     POLYGON Z ((671968.972 5922686.292 0.000, 6719...  \n",
       "3     POLYGON Z ((671954.192 5922697.177 0.000, 6719...  \n",
       "4     POLYGON Z ((672046.124 5922825.816 0.000, 6720...  \n",
       "...                                                 ...  \n",
       "3129  POLYGON Z ((672868.943 5922448.181 0.000, 6728...  \n",
       "3130  POLYGON Z ((672893.330 5922459.911 0.000, 6728...  \n",
       "3131  POLYGON Z ((672955.708 5922437.878 0.000, 6729...  \n",
       "3132  POLYGON Z ((672955.708 5922437.878 0.000, 6729...  \n",
       "3133  POLYGON Z ((672932.942 5922480.262 0.000, 6729...  \n",
       "\n",
       "[3134 rows x 5 columns]"
      ]
     },
     "execution_count": 6,
     "metadata": {},
     "output_type": "execute_result"
    }
   ],
   "source": [
    "gdf"
   ]
  },
  {
   "cell_type": "code",
   "execution_count": 6,
   "metadata": {},
   "outputs": [
    {
     "name": "stdout",
     "output_type": "stream",
     "text": [
      "                            geometry  \\\n",
      "0     POINT (675774.090 5923763.426)   \n",
      "1     POINT (674364.244 5922561.791)   \n",
      "2     POINT (674451.373 5922656.618)   \n",
      "3     POINT (673892.192 5922466.381)   \n",
      "4     POINT (673614.580 5922944.367)   \n",
      "...                              ...   \n",
      "6544  POINT (673658.533 5922787.879)   \n",
      "6545  POINT (674005.206 5922405.486)   \n",
      "6546  POINT (674327.220 5927663.942)   \n",
      "6547  POINT (673722.473 5924534.112)   \n",
      "6548  POINT (674672.511 5923096.656)   \n",
      "\n",
      "                                                   name   category  \\\n",
      "0         RENTA NACIONAL CIA DE SEGUROS GENERALES S. A.   tramites   \n",
      "1     CIA. DE SEGUROS GENERALES CONSORCIO NACIONAL D...   tramites   \n",
      "2           LIBERTY COMPAÑIA DE SEGUROS GENERALES S. A.   tramites   \n",
      "3                   REALE CHILE SEGUROS GENERALES S. A.   tramites   \n",
      "4                    COMPANIA DE SEGUROS CONFUTURO S.A.   tramites   \n",
      "...                                                 ...        ...   \n",
      "6544                 SOCIEDAD DE INVERSIONES KORDIS SPA  servicios   \n",
      "6545                         FARMACIAS DEL SUR LIMITADA  servicios   \n",
      "6546               COMERCIAL E INVERSIONES CYREFRAN SPA  servicios   \n",
      "6547                               FARMACIA TUCAPEL SPA  servicios   \n",
      "6548                           LABORATORIOS SAVAL S. A.  servicios   \n",
      "\n",
      "     subcategory  tags  \n",
      "0        seguros  None  \n",
      "1        seguros  None  \n",
      "2        seguros  None  \n",
      "3        seguros  None  \n",
      "4        seguros  None  \n",
      "...          ...   ...  \n",
      "6544    farmacia  None  \n",
      "6545    farmacia  None  \n",
      "6546    farmacia  None  \n",
      "6547    farmacia  None  \n",
      "6548    farmacia  None  \n",
      "\n",
      "[6549 rows x 5 columns]\n"
     ]
    }
   ],
   "source": [
    "import geopandas as gpd\n",
    "import shapely\n",
    "import requests\n",
    "\n",
    "data = requests.get('http://clbb-api:8000/api/amenity/')\n",
    "data_json = data.json()\n",
    "\n",
    "# Convertir GeoJSON a GeoDataFrame\n",
    "features = data_json['features']\n",
    "for feature in features:\n",
    "    # print(feature)\n",
    "    # Convertir la cadena de geometría a un objeto GeoDjango Point\n",
    "    # geom = shapely.from_wkt(feature['geometry'].split(';')[1])\n",
    "    # print(geom)\n",
    "    feature['geometry'] = shapely.from_wkt(feature['geometry'].split(';')[1])\n",
    "\n",
    "gdf = gpd.GeoDataFrame.from_features(features)\n",
    "gdf = gdf.set_crs(4326)\n",
    "# Imprimir el GeoDataFrame\n",
    "gdf = gdf.to_crs(32718)\n",
    "print(gdf)"
   ]
  },
  {
   "cell_type": "code",
   "execution_count": 7,
   "metadata": {},
   "outputs": [
    {
     "data": {
      "text/plain": [
       "(6549, 5)"
      ]
     },
     "execution_count": 7,
     "metadata": {},
     "output_type": "execute_result"
    }
   ],
   "source": [
    "gdf.shape"
   ]
  },
  {
   "cell_type": "code",
   "execution_count": 5,
   "metadata": {},
   "outputs": [
    {
     "data": {
      "text/plain": [
       "(6105, 5)"
      ]
     },
     "execution_count": 5,
     "metadata": {},
     "output_type": "execute_result"
    }
   ],
   "source": [
    "gdf.drop_duplicates().shape"
   ]
  },
  {
   "cell_type": "code",
   "execution_count": 1,
   "metadata": {},
   "outputs": [],
   "source": [
    "import geopandas as gpd"
   ]
  },
  {
   "cell_type": "code",
   "execution_count": 4,
   "metadata": {},
   "outputs": [],
   "source": [
    "gdf = gpd.read_parquet('./assets/area_scope/area_scope.parquet')"
   ]
  },
  {
   "cell_type": "code",
   "execution_count": 5,
   "metadata": {},
   "outputs": [
    {
     "data": {
      "text/html": [
       "<div>\n",
       "<style scoped>\n",
       "    .dataframe tbody tr th:only-of-type {\n",
       "        vertical-align: middle;\n",
       "    }\n",
       "\n",
       "    .dataframe tbody tr th {\n",
       "        vertical-align: top;\n",
       "    }\n",
       "\n",
       "    .dataframe thead th {\n",
       "        text-align: right;\n",
       "    }\n",
       "</style>\n",
       "<table border=\"1\" class=\"dataframe\">\n",
       "  <thead>\n",
       "    <tr style=\"text-align: right;\">\n",
       "      <th></th>\n",
       "      <th>OID_</th>\n",
       "      <th>Name</th>\n",
       "      <th>FolderPath</th>\n",
       "      <th>SymbolID</th>\n",
       "      <th>AltMode</th>\n",
       "      <th>Base</th>\n",
       "      <th>Clamped</th>\n",
       "      <th>Extruded</th>\n",
       "      <th>Snippet</th>\n",
       "      <th>PopupInfo</th>\n",
       "      <th>Shape_Leng</th>\n",
       "      <th>Shape_Area</th>\n",
       "      <th>geometry</th>\n",
       "    </tr>\n",
       "  </thead>\n",
       "  <tbody>\n",
       "    <tr>\n",
       "      <th>0</th>\n",
       "      <td>0</td>\n",
       "      <td>PolÃ­gono CityScope 2</td>\n",
       "      <td>poligono maqueta v2.kmz</td>\n",
       "      <td>0</td>\n",
       "      <td>0</td>\n",
       "      <td>0.0</td>\n",
       "      <td>-1</td>\n",
       "      <td>0</td>\n",
       "      <td>None</td>\n",
       "      <td>None</td>\n",
       "      <td>0.090871</td>\n",
       "      <td>0.000486</td>\n",
       "      <td>POLYGON Z ((673135.395 5923496.707 0.000, 6744...</td>\n",
       "    </tr>\n",
       "  </tbody>\n",
       "</table>\n",
       "</div>"
      ],
      "text/plain": [
       "   OID_                   Name               FolderPath  SymbolID  AltMode  \\\n",
       "0     0  PolÃ­gono CityScope 2  poligono maqueta v2.kmz         0        0   \n",
       "\n",
       "   Base  Clamped  Extruded Snippet PopupInfo  Shape_Leng  Shape_Area  \\\n",
       "0   0.0       -1         0    None      None    0.090871    0.000486   \n",
       "\n",
       "                                            geometry  \n",
       "0  POLYGON Z ((673135.395 5923496.707 0.000, 6744...  "
      ]
     },
     "execution_count": 5,
     "metadata": {},
     "output_type": "execute_result"
    }
   ],
   "source": [
    "gdf"
   ]
  },
  {
   "cell_type": "code",
   "execution_count": null,
   "metadata": {},
   "outputs": [],
   "source": []
  }
 ],
 "metadata": {
  "kernelspec": {
   "display_name": "Python 3 (ipykernel)",
   "language": "python",
   "name": "python3"
  },
  "language_info": {
   "codemirror_mode": {
    "name": "ipython",
    "version": 3
   },
   "file_extension": ".py",
   "mimetype": "text/x-python",
   "name": "python",
   "nbconvert_exporter": "python",
   "pygments_lexer": "ipython3",
   "version": "3.9.19"
  }
 },
 "nbformat": 4,
 "nbformat_minor": 2
}
