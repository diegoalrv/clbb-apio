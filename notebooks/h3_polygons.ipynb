{
 "cells": [
  {
   "cell_type": "code",
   "execution_count": 2,
   "metadata": {},
   "outputs": [],
   "source": [
    "import geopandas as gpd\n",
    "from glob import glob\n",
    "from shapely.ops import cascaded_union#, unary_union\n",
    "from shapely.geometry import mapping\n",
    "import h3\n",
    "import json\n",
    "import pandas as pd\n",
    "import geopandas as gpd\n",
    "from shapely.geometry import Polygon\n",
    "# import\n",
    "import warnings\n",
    "warnings.filterwarnings('ignore')\n",
    "assets = '/app/assets/'"
   ]
  },
  {
   "cell_type": "code",
   "execution_count": 3,
   "metadata": {},
   "outputs": [],
   "source": [
    "# Función para obtener hexágonos H3 dentro de un polígono\n",
    "def obtener_hexagonos_en_gdf(poligono, resolucion, expansion=0.002):\n",
    "    # Expande el polígono ligeramente para asegurar cobertura completa\n",
    "    poligono_expandido = poligono.buffer(expansion)\n",
    "    \n",
    "    # Convertir el polígono expandido a un formato que h3.polyfill pueda entender\n",
    "    contorno_expandido = mapping(poligono_expandido)['coordinates'][0]\n",
    "    contorno_expandido = [(y, x) for x, y in contorno_expandido]  # Asegúrate de que las coordenadas estén en formato (lat, lon)\n",
    "    \n",
    "    # Obtener los hexágonos usando el contorno del polígono expandido\n",
    "    hexagonos = h3.polyfill_geojson({\"type\": \"Polygon\", \"coordinates\": [contorno_expandido]}, resolucion)\n",
    "    \n",
    "    return list(hexagonos)\n",
    "\n",
    "# Función para convertir un código H3 a un objeto Polygon de Shapely, modificada para devolver también el código H3\n",
    "def h3_to_polygon(hex_code):\n",
    "    # Obtener los límites del hexágono como una lista de coordenadas (lat, lon)\n",
    "    boundary = h3.h3_to_geo_boundary(hex_code, geo_json=True)\n",
    "    # Invertir las coordenadas para cada punto del límite\n",
    "    boundary_inverted = [(lon, lat) for lat, lon in boundary]\n",
    "    # Crear y retornar un objeto Polygon usando estas coordenadas invertidas\n",
    "    return Polygon(boundary_inverted), hex_code\n",
    "\n",
    "def get_h3_set(gdf, resolucion):\n",
    "    gdf['geometry'] = gdf['geometry'].apply(lambda poly: Polygon([(x, y) for x, y, z in poly.exterior.coords]))\n",
    "    original_crs = gdf.crs\n",
    "    # Suponiendo que ya has corregido la geometría de 'gdf' para que solo contenga coordenadas x, y\n",
    "    # Aplicar la función al polígono en tu GeoDataFrame para obtener los hexágonos\n",
    "\n",
    "    gdf = gdf.to_crs(4326)\n",
    "    gdf['hexagonos_h3'] = gdf['geometry'].apply(lambda poly: obtener_hexagonos_en_gdf(poly, resolucion))\n",
    "\n",
    "    # Suponiendo que 'hexagonos_h3' es una lista de códigos H3 obtenidos previamente y 'resolucion' es conocida\n",
    "    hexagonos_h3 = gdf['hexagonos_h3'].explode().tolist()  # Aplanamos la lista si es necesario\n",
    "\n",
    "    # Convertir cada código H3 a un Polygon y mantener el código H3\n",
    "    poligonos_y_codigos = [h3_to_polygon(hex_code) for hex_code in hexagonos_h3]\n",
    "\n",
    "    # Separar los polígonos y los códigos H3 en listas separadas\n",
    "    poligonos, codigos_h3 = zip(*poligonos_y_codigos)\n",
    "\n",
    "    # Crear un DataFrame con los códigos H3 y la resolución, luego convertirlo a GeoDataFrame\n",
    "    df_hexagonos = pd.DataFrame({\n",
    "        'geometry': poligonos,\n",
    "        'resolucion': [resolucion] * len(codigos_h3),\n",
    "        'hex_id': codigos_h3\n",
    "    })\n",
    "    gdf_hexagonos = gpd.GeoDataFrame(df_hexagonos, geometry='geometry')\n",
    "\n",
    "    overlay_hexs = gpd.overlay(gdf_hexagonos, gdf)\n",
    "    filters_hexs = gdf_hexagonos[gdf_hexagonos['hex_id'].isin(overlay_hexs['hex_id'])]\n",
    "\n",
    "    overlay_hexs = overlay_hexs.set_crs(4326)\n",
    "    filters_hexs = filters_hexs.set_crs(4326)\n",
    "    return overlay_hexs, filters_hexs"
   ]
  },
  {
   "cell_type": "code",
   "execution_count": 24,
   "metadata": {},
   "outputs": [],
   "source": [
    "area = gpd.read_parquet(f'{assets}/area_scope/area_scope.parquet')\n",
    "resolucion = 13\n",
    "overlay_hexs, filters_hexs = get_h3_set(area.copy(), resolucion)\n",
    "hex_cols = ['hex_id', 'geometry']\n",
    "filters_hexs = filters_hexs[hex_cols]\n",
    "filters_hexs.to_parquet(f'/app/data/set/hex/level_{resolucion}.parquet')"
   ]
  }
 ],
 "metadata": {
  "kernelspec": {
   "display_name": "Python 3 (ipykernel)",
   "language": "python",
   "name": "python3"
  },
  "language_info": {
   "codemirror_mode": {
    "name": "ipython",
    "version": 3
   },
   "file_extension": ".py",
   "mimetype": "text/x-python",
   "name": "python",
   "nbconvert_exporter": "python",
   "pygments_lexer": "ipython3",
   "version": "3.9.18"
  }
 },
 "nbformat": 4,
 "nbformat_minor": 2
}
