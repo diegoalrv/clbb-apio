{
 "cells": [
  {
   "cell_type": "code",
   "execution_count": 19,
   "metadata": {},
   "outputs": [],
   "source": [
    "import geopandas as gpd\n",
    "import os\n",
    "from glob import glob"
   ]
  },
  {
   "cell_type": "code",
   "execution_count": 21,
   "metadata": {},
   "outputs": [
    {
     "data": {
      "text/plain": [
       "'/home/diego/Proyectos/base_geo/notebooks'"
      ]
     },
     "execution_count": 21,
     "metadata": {},
     "output_type": "execute_result"
    }
   ],
   "source": [
    "current_folder = os.getcwd()\n",
    "current_folder"
   ]
  },
  {
   "cell_type": "code",
   "execution_count": 26,
   "metadata": {},
   "outputs": [],
   "source": [
    "assets_path = os.path.join(current_folder,'assets')\n",
    "data_path = os.path.join(assets_path, 'streets','actual')"
   ]
  },
  {
   "cell_type": "code",
   "execution_count": 27,
   "metadata": {},
   "outputs": [],
   "source": [
    "nodes = gpd.read_parquet(os.path.join(data_path, 'nodes.parquet'))\n",
    "edges = gpd.read_parquet(os.path.join(data_path, 'edges.parquet'))"
   ]
  },
  {
   "cell_type": "code",
   "execution_count": 30,
   "metadata": {},
   "outputs": [
    {
     "data": {
      "text/html": [
       "<div>\n",
       "<style scoped>\n",
       "    .dataframe tbody tr th:only-of-type {\n",
       "        vertical-align: middle;\n",
       "    }\n",
       "\n",
       "    .dataframe tbody tr th {\n",
       "        vertical-align: top;\n",
       "    }\n",
       "\n",
       "    .dataframe thead th {\n",
       "        text-align: right;\n",
       "    }\n",
       "</style>\n",
       "<table border=\"1\" class=\"dataframe\">\n",
       "  <thead>\n",
       "    <tr style=\"text-align: right;\">\n",
       "      <th></th>\n",
       "      <th>osmid</th>\n",
       "      <th>y</th>\n",
       "      <th>x</th>\n",
       "      <th>street_count</th>\n",
       "      <th>highway</th>\n",
       "      <th>geometry</th>\n",
       "    </tr>\n",
       "  </thead>\n",
       "  <tbody>\n",
       "    <tr>\n",
       "      <th>0</th>\n",
       "      <td>267252253</td>\n",
       "      <td>5.922560e+06</td>\n",
       "      <td>674769.156344</td>\n",
       "      <td>2</td>\n",
       "      <td>None</td>\n",
       "      <td>POINT (674769.156 5922560.301)</td>\n",
       "    </tr>\n",
       "    <tr>\n",
       "      <th>1</th>\n",
       "      <td>267252256</td>\n",
       "      <td>5.922556e+06</td>\n",
       "      <td>674767.130534</td>\n",
       "      <td>4</td>\n",
       "      <td>crossing</td>\n",
       "      <td>POINT (674767.131 5922555.936)</td>\n",
       "    </tr>\n",
       "    <tr>\n",
       "      <th>2</th>\n",
       "      <td>267252355</td>\n",
       "      <td>5.922608e+06</td>\n",
       "      <td>675032.401388</td>\n",
       "      <td>4</td>\n",
       "      <td>None</td>\n",
       "      <td>POINT (675032.401 5922608.020)</td>\n",
       "    </tr>\n",
       "    <tr>\n",
       "      <th>3</th>\n",
       "      <td>267548089</td>\n",
       "      <td>5.926340e+06</td>\n",
       "      <td>676180.873862</td>\n",
       "      <td>2</td>\n",
       "      <td>None</td>\n",
       "      <td>POINT (676180.874 5926340.018)</td>\n",
       "    </tr>\n",
       "    <tr>\n",
       "      <th>4</th>\n",
       "      <td>267548092</td>\n",
       "      <td>5.925974e+06</td>\n",
       "      <td>676137.875334</td>\n",
       "      <td>2</td>\n",
       "      <td>None</td>\n",
       "      <td>POINT (676137.875 5925973.933)</td>\n",
       "    </tr>\n",
       "    <tr>\n",
       "      <th>...</th>\n",
       "      <td>...</td>\n",
       "      <td>...</td>\n",
       "      <td>...</td>\n",
       "      <td>...</td>\n",
       "      <td>...</td>\n",
       "      <td>...</td>\n",
       "    </tr>\n",
       "    <tr>\n",
       "      <th>35994</th>\n",
       "      <td>11391369995</td>\n",
       "      <td>5.922697e+06</td>\n",
       "      <td>677192.761565</td>\n",
       "      <td>2</td>\n",
       "      <td>None</td>\n",
       "      <td>POINT (677192.762 5922697.413)</td>\n",
       "    </tr>\n",
       "    <tr>\n",
       "      <th>35995</th>\n",
       "      <td>11391369996</td>\n",
       "      <td>5.922698e+06</td>\n",
       "      <td>677228.439715</td>\n",
       "      <td>2</td>\n",
       "      <td>None</td>\n",
       "      <td>POINT (677228.440 5922697.969)</td>\n",
       "    </tr>\n",
       "    <tr>\n",
       "      <th>35996</th>\n",
       "      <td>11391369997</td>\n",
       "      <td>5.922657e+06</td>\n",
       "      <td>677157.299755</td>\n",
       "      <td>2</td>\n",
       "      <td>None</td>\n",
       "      <td>POINT (677157.300 5922657.470)</td>\n",
       "    </tr>\n",
       "    <tr>\n",
       "      <th>35997</th>\n",
       "      <td>11391369998</td>\n",
       "      <td>5.922663e+06</td>\n",
       "      <td>677160.712349</td>\n",
       "      <td>2</td>\n",
       "      <td>None</td>\n",
       "      <td>POINT (677160.712 5922663.237)</td>\n",
       "    </tr>\n",
       "    <tr>\n",
       "      <th>35998</th>\n",
       "      <td>11391369999</td>\n",
       "      <td>5.922673e+06</td>\n",
       "      <td>677165.757430</td>\n",
       "      <td>2</td>\n",
       "      <td>None</td>\n",
       "      <td>POINT (677165.757 5922672.844)</td>\n",
       "    </tr>\n",
       "  </tbody>\n",
       "</table>\n",
       "<p>35999 rows × 6 columns</p>\n",
       "</div>"
      ],
      "text/plain": [
       "             osmid             y              x  street_count   highway  \\\n",
       "0        267252253  5.922560e+06  674769.156344             2      None   \n",
       "1        267252256  5.922556e+06  674767.130534             4  crossing   \n",
       "2        267252355  5.922608e+06  675032.401388             4      None   \n",
       "3        267548089  5.926340e+06  676180.873862             2      None   \n",
       "4        267548092  5.925974e+06  676137.875334             2      None   \n",
       "...            ...           ...            ...           ...       ...   \n",
       "35994  11391369995  5.922697e+06  677192.761565             2      None   \n",
       "35995  11391369996  5.922698e+06  677228.439715             2      None   \n",
       "35996  11391369997  5.922657e+06  677157.299755             2      None   \n",
       "35997  11391369998  5.922663e+06  677160.712349             2      None   \n",
       "35998  11391369999  5.922673e+06  677165.757430             2      None   \n",
       "\n",
       "                             geometry  \n",
       "0      POINT (674769.156 5922560.301)  \n",
       "1      POINT (674767.131 5922555.936)  \n",
       "2      POINT (675032.401 5922608.020)  \n",
       "3      POINT (676180.874 5926340.018)  \n",
       "4      POINT (676137.875 5925973.933)  \n",
       "...                               ...  \n",
       "35994  POINT (677192.762 5922697.413)  \n",
       "35995  POINT (677228.440 5922697.969)  \n",
       "35996  POINT (677157.300 5922657.470)  \n",
       "35997  POINT (677160.712 5922663.237)  \n",
       "35998  POINT (677165.757 5922672.844)  \n",
       "\n",
       "[35999 rows x 6 columns]"
      ]
     },
     "execution_count": 30,
     "metadata": {},
     "output_type": "execute_result"
    }
   ],
   "source": [
    "nodes"
   ]
  },
  {
   "cell_type": "code",
   "execution_count": null,
   "metadata": {},
   "outputs": [],
   "source": []
  }
 ],
 "metadata": {
  "kernelspec": {
   "display_name": "env",
   "language": "python",
   "name": "python3"
  },
  "language_info": {
   "codemirror_mode": {
    "name": "ipython",
    "version": 3
   },
   "file_extension": ".py",
   "mimetype": "text/x-python",
   "name": "python",
   "nbconvert_exporter": "python",
   "pygments_lexer": "ipython3",
   "version": "3.10.12"
  }
 },
 "nbformat": 4,
 "nbformat_minor": 2
}
